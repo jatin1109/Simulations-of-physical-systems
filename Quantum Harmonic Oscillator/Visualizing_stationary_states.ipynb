{
  "nbformat": 4,
  "nbformat_minor": 0,
  "metadata": {
    "colab": {
      "provenance": []
    },
    "kernelspec": {
      "name": "python3",
      "display_name": "Python 3"
    },
    "language_info": {
      "name": "python"
    }
  },
  "cells": [
    {
      "cell_type": "code",
      "metadata": {
        "id": "2D_4lG__AaIz"
      },
      "source": [
        "#import all necessary libraries\n",
        "\n",
        "import numpy as np\n",
        "import matplotlib.pyplot as plt"
      ],
      "execution_count": null,
      "outputs": []
    },
    {
      "cell_type": "code",
      "metadata": {
        "colab": {
          "base_uri": "https://localhost:8080/",
          "height": 283
        },
        "id": "XNWG47u6CCYs",
        "outputId": "aeecef20-6194-4328-d47f-867351d1656e"
      },
      "source": [
        "#constants used\n",
        "hbar = 1.0545718e-34    #hbar in m^2 kg/s\n",
        "m = 9.1093836e-31  #mass of an electron in kg\n",
        "w = 1e100          #arbitrary angular frequency of 100 rad/s\n",
        "#number of eigenstates used\n",
        "N = 100\n",
        "\n",
        "def creation(N):\n",
        "  diag_entry = np.array([np.sqrt(n) for n in range(1, N)])\n",
        "  a = np.diag(diag_entry, 1)\n",
        "  return a\n",
        "\n",
        "def annihilation(N):\n",
        "  diag_entry = np.array([np.sqrt(n) for n in range(1, N)])\n",
        "  a = np.diag(diag_entry, -1)\n",
        "  return a\n",
        "\n",
        "def Hamiltonian(N):\n",
        "  a = creation(N)\n",
        "  a_dag = annihilation(N)\n",
        "  H = hbar*w*(np.matmul(a_dag, a) + (1/2)*np.identity(N))\n",
        "  return H\n",
        "\n",
        "def position(N):\n",
        "  a = creation(N)\n",
        "  a_dag = annihilation(N)\n",
        "  x = np.sqrt(hbar/(2*m*w))*(a + a_dag)\n",
        "\n",
        "#takes in the total number of energy eigenstates and the nth energy eigenstate required\n",
        "def energy_eigenvector(N, n): \n",
        "  v_n = np.zeros(N)\n",
        "  v_n[n] = 1\n",
        "  return v_n\n",
        "\n",
        "\n",
        "n = 1  #nth energy eigenstate\n",
        "a = creation(N)\n",
        "a_dag = annihilation(N)\n",
        "H = Hamiltonian(N)\n",
        "pos = position(N)\n",
        "state = energy_eigenvector(N, n)\n",
        "state_conj = np.conjugate(state)\n",
        "prob_dist_energy_basis = state_conj*state\n",
        "\n",
        "plt.plot(range(N), prob_dist_energy_basis)\n"
      ],
      "execution_count": null,
      "outputs": [
        {
          "output_type": "execute_result",
          "data": {
            "text/plain": [
              "[<matplotlib.lines.Line2D at 0x7f11de04fa50>]"
            ]
          },
          "metadata": {},
          "execution_count": 6
        },
        {
          "output_type": "display_data",
          "data": {
            "image/png": "[encoded data removed]",
            "text/plain": [
              "<Figure size 432x288 with 1 Axes>"
            ]
          },
          "metadata": {
            "needs_background": "light"
          }
        }
      ]
    },
    {
      "cell_type": "code",
      "metadata": {
        "id": "NyRulRPdCObs"
      },
      "source": [],
      "execution_count": null,
      "outputs": []
    }
  ]
}