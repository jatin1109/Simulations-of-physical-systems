{
  "nbformat": 4,
  "nbformat_minor": 0,
  "metadata": {
    "colab": {
      "provenance": []
    },
    "kernelspec": {
      "name": "python3",
      "display_name": "Python 3"
    },
    "language_info": {
      "name": "python"
    }
  },
  "cells": [
    {
      "cell_type": "code",
      "metadata": {
        "id": "1COjjXkevUj8"
      },
      "source": [
        "#import all libraries\n",
        "import numpy as np\n",
        "import matplotlib.pyplot as plt\n",
        "import scipy.linalg as splg"
      ],
      "execution_count": null,
      "outputs": []
    },
    {
      "cell_type": "code",
      "metadata": {
        "colab": {
          "base_uri": "https://localhost:8080/",
          "height": 297
        },
        "id": "M9X3vq5KyyoW",
        "outputId": "64e72bf4-eb88-4f14-b10e-21eb6c7f1eaa"
      },
      "source": [
        "#constants used\n",
        "hbar_si = 1.0545718e-34    # [m^2 kg/s] hbar (reduced plank's constant) in SI units\n",
        "hbar = 6.58e-16            # [eV*s] hbar (reduced plank's constant)\n",
        "m_amu = 6                  # [amu] mass of oscillator in amu\n",
        "amu2eV = 931.5e6           # [eV] convert amu to eV [E = m * c^2]\n",
        "c_nm = 2.997e17            # [nm/s] the speed of light\n",
        "c_cm = 2.997e10            # [cm/s] the speed of light\n",
        "m = m_amu*amu2eV/(c_nm**2) # [eV*s^2/nm^2] mass of oscillator\n",
        "w = 2*np.pi*300*c_cm       # [rad/s] angular frequency of the oscillator\n",
        "\n",
        "def creation(N):\n",
        "  diag_entry = np.array([np.sqrt(n) for n in range(1, N)])\n",
        "  a = np.diag(diag_entry, 1)\n",
        "  return a\n",
        "\n",
        "def annihilation(N):\n",
        "  diag_entry = np.array([np.sqrt(n) for n in range(1, N)])\n",
        "  a = np.diag(diag_entry, -1)\n",
        "  return a\n",
        "\n",
        "def Hamiltonian(N):\n",
        "  a = creation(N)\n",
        "  a_dag = annihilation(N)\n",
        "  H = hbar*w*(np.matmul(a_dag, a) + (1/2)*np.identity(N))\n",
        "  return H # [eV] the Hamiltonian has units eV\n",
        "\n",
        "def position(N):\n",
        "  a = creation(N)\n",
        "  a_dag = annihilation(N)\n",
        "  x = np.sqrt(hbar/(2*m*w))*(a + a_dag)\n",
        "  return x # [nm] The position operator has units nm\n",
        "\n",
        "#takes in the total number of energy eigenstates and the nth energy eigenstate required\n",
        "def energy_eigenvector(N, n): \n",
        "  v_n = np.zeros(N)\n",
        "  v_n[n] = 1\n",
        "  return v_n\n",
        "\n",
        "def displacement(N, alpha):\n",
        "  a = creation(N)\n",
        "  a_dag = annihilation(N)\n",
        "  D = splg.expm(alpha*a_dag - np.conjugate(alpha)*a)\n",
        "  return D\n",
        "\n",
        "def time_evol(H, t):\n",
        "  i = complex(0, 1)\n",
        "  U = splg.expm(-i*H*t/hbar)\n",
        "  return U\n",
        "\n",
        "def energy_to_pos_base(v):\n",
        "  N = len(v)\n",
        "  X = position(N)\n",
        "  eigval, P2E = np.linalg.eig(X)\n",
        "  E2P = np.transpose(P2E)\n",
        "  v_p = np.matmul(E2P, v)\n",
        "  return v_p\n",
        "\n",
        "\n",
        "#number of eigenstates used\n",
        "N = 71\n",
        "n = 2  #ground energy eigenstate\n",
        "\n",
        "#define the energy eigenstate\n",
        "state = energy_eigenvector(N, n)\n",
        "state_conj = np.conjugate(state) #conjugate of the state\n",
        "\n",
        "#define the energy eigenstate in position basis\n",
        "X = position(N)\n",
        "eigval, P2E = np.linalg.eig(X)\n",
        "E2P = np.transpose(P2E)\n",
        "state_p = np.matmul(E2P, state)\n",
        "state_conj_p = np.conjugate(state_p) #conjugate of the state\n",
        "\n",
        "#probability for each energy basis state\n",
        "prob_dist_energy_basis = state_conj*state\n",
        "\n",
        "#probability for each position basis state\n",
        "prob_dist_pos_basis = state_conj_p*state_p\n",
        "\n",
        "#plot the probability distribution\n",
        "plt.bar(eigval, prob_dist_pos_basis, width=0.004) #will have to change width according to the value of N. Higher N requires lower width\n",
        "plt.xlabel(\"Position (in nm)\")\n",
        "plt.ylabel(\"Probability\")\n"
      ],
      "execution_count": null,
      "outputs": [
        {
          "output_type": "execute_result",
          "data": {
            "text/plain": [
              "Text(0, 0.5, 'Probability')"
            ]
          },
          "metadata": {},
          "execution_count": 76
        },
        {
          "output_type": "display_data",
          "data": {
            "image/png": "[encoded data removed]",
            "text/plain": [
              "<Figure size 432x288 with 1 Axes>"
            ]
          },
          "metadata": {
            "needs_background": "light"
          }
        }
      ]
    },
    {
      "cell_type": "code",
      "metadata": {
        "id": "JSjzGcrkRfNV",
        "colab": {
          "base_uri": "https://localhost:8080/",
          "height": 317
        },
        "outputId": "f2226b70-7578-493b-e972-4f3fa64bba2e"
      },
      "source": [
        "#Part 2: Plotting the time evolution\n",
        "\n",
        "#number of eigenstates used\n",
        "N = 71\n",
        "n = 0  #ground energy eigenstate\n",
        "#alpha for displacement\n",
        "alpha = complex(3, 1) #change the values to use a different alpha\n",
        "E0 = hbar*w*0.5  # [eV] zero point energy (energy scale for timesteps)\n",
        "T0 = hbar/E0     # [s] time scale\n",
        "T = 5            # [T0] Amount of time we want to simulate for in units of T0\n",
        "nt = 75          # number of timesteps\n",
        "t = np.linspace(0, T*T0, nt) #vector containing time points\n",
        "\n",
        "#create all required operators\n",
        "D = displacement(N, alpha)\n",
        "H = Hamiltonian(N)\n",
        "X = position(N)\n",
        "\n",
        "#transformation matrix\n",
        "eigval, P2E = np.linalg.eig(X)\n",
        "E2P = np.transpose(P2E)\n",
        "\n",
        "#create the ground energy eigenstate\n",
        "state = energy_eigenvector(N, n)\n",
        "\n",
        "#create the Coherent state using displacement operator\n",
        "coh_state_0 = np.matmul(D, state)\n",
        "\n",
        "#create empty arrays to store states\n",
        "coh_state_t_E = np.zeros((N, nt))\n",
        "coh_state_t_X = np.zeros((N, nt))\n",
        "\n",
        "#run the time evolution\n",
        "for i in range(nt):\n",
        "  Ut = time_evol(H, t[i]) #define the time evolution operator\n",
        "  coh_state_t_E[:, i] = np.matmul(Ut, coh_state_0) #apply time evolution in energy basis\n",
        "  coh_state_t_X[:, i] = np.matmul(E2P, coh_state_t_E[:, i])\n",
        "\n",
        "#calculate probability densities\n",
        "pd_t_E = np.conjugate(coh_state_t_E)*coh_state_t_E\n",
        "pd_t_X = np.conjugate(coh_state_t_X)*coh_state_t_X\n",
        "\n",
        "#visualize\n",
        "plt.imshow(pd_t_E)\n",
        "plt.xlabel(\"Time step\")\n",
        "plt.ylabel(\"Position state (relative)\")"
      ],
      "execution_count": null,
      "outputs": [
        {
          "output_type": "stream",
          "name": "stderr",
          "text": [
            "/usr/local/lib/python3.7/dist-packages/ipykernel_launcher.py:36: ComplexWarning: Casting complex values to real discards the imaginary part\n"
          ]
        },
        {
          "output_type": "execute_result",
          "data": {
            "text/plain": [
              "Text(0, 0.5, 'Position state (relative)')"
            ]
          },
          "metadata": {},
          "execution_count": 86
        },
        {
          "output_type": "display_data",
          "data": {
            "image/png": "[encoded data removed]",
            "text/plain": [
              "<Figure size 432x288 with 1 Axes>"
            ]
          },
          "metadata": {
            "needs_background": "light"
          }
        }
      ]
    },
    {
      "cell_type": "code",
      "metadata": {
        "id": "tmWqxy2Gfe2J"
      },
      "source": [],
      "execution_count": null,
      "outputs": []
    }
  ]
}